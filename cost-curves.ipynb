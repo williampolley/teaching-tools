{
 "cells": [
  {
   "cell_type": "code",
   "execution_count": 14,
   "metadata": {},
   "outputs": [
    {
     "name": "stdout",
     "output_type": "stream",
     "text": [
      "total cost = aQ^3 + bQ^2 + cQ + d\n"
     ]
    },
    {
     "data": {
      "application/vnd.jupyter.widget-view+json": {
       "model_id": "5f154c4d11e448eeb2727d873b5955dc",
       "version_major": 2,
       "version_minor": 0
      },
      "text/plain": [
       "interactive(children=(FloatSlider(value=7e-05, description='a', max=0.0001, min=5e-05, step=1e-05), FloatSlide…"
      ]
     },
     "metadata": {},
     "output_type": "display_data"
    }
   ],
   "source": [
    "# nbi:hide_in\n",
    "#This script can be used to show simple supply and demand diagrams for teaching.\n",
    "#\n",
    "#William Polley\n",
    "#\n",
    "#\n",
    "\n",
    "\n",
    "import numpy as np\n",
    "import matplotlib.pyplot as plt\n",
    "import ipywidgets as widgets\n",
    "%matplotlib inline\n",
    "\n",
    "print('total cost = aQ^3 + bQ^2 + cQ + d')\n",
    "q=np.linspace(1,1000,1000)\n",
    " \n",
    "# Create the plot \n",
    "def g(a,b,c,d):\n",
    "    fig = plt.figure(figsize = (16,8))\n",
    "    tc=a*q**3+b*q**2+c*q+d\n",
    "    plt.subplot(121)\n",
    "    plt.plot(tc,label='total cost')\n",
    "    plt.plot(tc-d,label='total variable cost')\n",
    "    plt.plot(q-q+d,label='total fixed cost')\n",
    "    plt.xlabel('quantity',fontsize=24)\n",
    "    plt.ylabel('cost',fontsize=24)\n",
    "    plt.legend(loc='upper left',fontsize=24)\n",
    "    plt.axis([0,1000,0,125000])\n",
    "    plt.tick_params(axis='both', labelsize=24)\n",
    "    plt.title('total cost curves', fontsize=24, fontweight='bold')\n",
    "    \n",
    "    plt.subplot(122)\n",
    "    plt.plot(tc/q,label='average total cost')\n",
    "    plt.plot((tc-d)/q,label='average variable cost')\n",
    "    plt.plot(3*a*q**2+2*b*q+c,label='marginal cost')\n",
    "    plt.xlabel('quantity', fontsize=24)\n",
    "    plt.ylabel('cost',fontsize=24)\n",
    "    plt.legend(loc='lower left',fontsize=24)\n",
    "    plt.axis([0,1000,0,120])\n",
    "    plt.tick_params(axis='both', labelsize=24)\n",
    "    plt.title('average and marginal cost', fontsize=24, fontweight='bold')\n",
    "    plt.show()\n",
    "    \n",
    "\n",
    "interactive_plot = widgets.interactive(g, a=widgets.FloatSlider(value=.00007,min=.00005,max=.0001,step=.00001,description='a'), b=widgets.FloatSlider(value=-.06,min=-.08,max=-.05,step=.01,description='b'),c=widgets.FloatSlider(value=50,min=50,max=100,step=10,description='c'),d=widgets.FloatSlider(value=3000,min=0,max=10000,step=1000,description='d'))\n",
    "interactive_plot"
   ]
  },
  {
   "cell_type": "code",
   "execution_count": null,
   "metadata": {},
   "outputs": [],
   "source": []
  }
 ],
 "metadata": {
  "kernelspec": {
   "display_name": "Python 3",
   "language": "python",
   "name": "python3"
  },
  "language_info": {
   "codemirror_mode": {
    "name": "ipython",
    "version": 3
   },
   "file_extension": ".py",
   "mimetype": "text/x-python",
   "name": "python",
   "nbconvert_exporter": "python",
   "pygments_lexer": "ipython3",
   "version": "3.7.4"
  }
 },
 "nbformat": 4,
 "nbformat_minor": 2
}
