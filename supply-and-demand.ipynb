{
 "cells": [
  {
   "cell_type": "code",
   "execution_count": 1,
   "metadata": {},
   "outputs": [
    {
     "data": {
      "application/vnd.jupyter.widget-view+json": {
       "model_id": "91b552af842842dfba38885226b3fc70",
       "version_major": 2,
       "version_minor": 0
      },
      "text/plain": [
       "interactive(children=(IntSlider(value=100, description='D Intercept', max=150, min=50, step=10), IntSlider(val…"
      ]
     },
     "metadata": {},
     "output_type": "display_data"
    }
   ],
   "source": [
    "# nbi:hide_in\n",
    "#This script can be used to show simple supply and demand diagrams for teaching.\n",
    "#\n",
    "#William Polley\n",
    "#\n",
    "#\n",
    "\n",
    "\n",
    "import numpy as np\n",
    "import matplotlib.pyplot as plt\n",
    "import ipywidgets as widgets\n",
    "%matplotlib inline\n",
    "\n",
    "class Line:\n",
    "\n",
    "    def __init__(self,slope,intercept):\n",
    "        self.slope=slope\n",
    "        self.intercept=intercept\n",
    "\n",
    "\n",
    "\n",
    "\n",
    "d=Line(1,0)\n",
    "s=Line(.5,0)\n",
    "\n",
    "q=np.linspace(0,100,101)\n",
    " \n",
    "# Create the plot \n",
    "def g(di,si):\n",
    "    fig = plt.figure(figsize = (10,10))\n",
    "    d.intercept=di\n",
    "    s.intercept=si\n",
    "    plt.plot(d.intercept-d.slope*q,label='demand')\n",
    "    plt.plot(s.intercept+s.slope*q,label='supply')\n",
    "    \n",
    "    plt.xlabel('quantity', fontsize=24)\n",
    "    plt.ylabel('price',fontsize=24)\n",
    "    \n",
    "    plt.legend(loc='lower left',fontsize=24)\n",
    "    plt.axis([0,100,0,100])\n",
    "    plt.tick_params(axis='both', labelsize=24)\n",
    "\n",
    "    plt.title('supply and demand', fontsize=24, fontweight='bold')\n",
    "    plt.show()\n",
    "    \n",
    "\n",
    "interactive_plot = widgets.interactive(g,\n",
    "                                       di=widgets.IntSlider(value=100,min=50,max=150,step=10,description='D Intercept'),\n",
    "                                       si=widgets.IntSlider(value=20,min=0,max=100,step=10,description='S Intercept')\n",
    "                                      )\n",
    "interactive_plot"
   ]
  },
  {
   "cell_type": "code",
   "execution_count": null,
   "metadata": {},
   "outputs": [],
   "source": []
  }
 ],
 "metadata": {
  "kernelspec": {
   "display_name": "Python 3",
   "language": "python",
   "name": "python3"
  },
  "language_info": {
   "codemirror_mode": {
    "name": "ipython",
    "version": 3
   },
   "file_extension": ".py",
   "mimetype": "text/x-python",
   "name": "python",
   "nbconvert_exporter": "python",
   "pygments_lexer": "ipython3",
   "version": "3.7.4"
  }
 },
 "nbformat": 4,
 "nbformat_minor": 2
}
