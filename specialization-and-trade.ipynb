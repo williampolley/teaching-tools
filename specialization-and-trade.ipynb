{
 "cells": [
  {
   "cell_type": "code",
   "execution_count": 41,
   "metadata": {},
   "outputs": [
    {
     "data": {
      "application/vnd.jupyter.widget-view+json": {
       "model_id": "6cbadb2b210a45559c8788c057ea3bc4",
       "version_major": 2,
       "version_minor": 0
      },
      "text/plain": [
       "interactive(children=(RadioButtons(description='Choose one:', options=('low price of wheat', 'high price of wh…"
      ]
     },
     "metadata": {},
     "output_type": "display_data"
    }
   ],
   "source": [
    "# nbi:hide_in\n",
    "#This script can be used to show simple supply and demand diagrams for teaching.\n",
    "#\n",
    "#William Polley\n",
    "#\n",
    "#\n",
    "\n",
    "\n",
    "import numpy as np\n",
    "import matplotlib.pyplot as plt\n",
    "import ipywidgets as widgets\n",
    "from scipy.optimize import fsolve\n",
    "from sympy import Derivative, symbols\n",
    "%matplotlib inline\n",
    "\n",
    "class PPF:\n",
    "    def __init__(self,xint,yint):\n",
    "        self.xint=xint\n",
    "        self.yint=yint\n",
    "\n",
    "class Line:\n",
    "\n",
    "    def __init__(self,slope,intercept):\n",
    "        self.slope=slope\n",
    "        self.intercept=intercept\n",
    "\n",
    "        \n",
    "country1=PPF(50,100)\n",
    "country2=PPF(100,50)\n",
    "price1=Line(0,0)\n",
    "price2=Line(0,0)\n",
    "x1=np.linspace(1,50,50)\n",
    "x2=np.linspace(1,100,100)\n",
    "def f1(x,y):\n",
    "    return -((country1.yint/country1.xint)**2)*x*(country1.yint**2 - ((country1.yint/country1.xint)**2)*x**2)**(-0.5)+y\n",
    "root=fsolve(f1,45,args=(.5))\n",
    "\n",
    "def f2(x,y):\n",
    "    return -((country2.yint/country2.xint)**2)*x*(country2.yint**2 - ((country2.yint/country2.xint)**2)*x**2)**(-0.5)+y\n",
    "root=fsolve(f2,97,args=(.5))\n",
    "\n",
    "foo=symbols('foo')\n",
    "der1=Derivative((country1.yint**2-((country1.yint/country1.xint)**2)*foo**2)**(.5),foo,evaluate=True)\n",
    "der2=Derivative((country2.yint**2-(foo**2)/((country2.yint/country2.xint)**2))**(.5),foo,evaluate=True)\n",
    "\n",
    "\n",
    "# Create the plot \n",
    "def g(Case):\n",
    "    if Case=='high price of wheat':\n",
    "        p=1.5\n",
    "    else:\n",
    "        p=.5\n",
    "    price1.slope=-p\n",
    "    price2.slope=-p\n",
    "    price1.intercept=(country1.yint**2-((country1.yint/country1.xint)**2)*fsolve(f1,25,args=(p))[0]**2)**(.5)+p*fsolve(f1,40,args=(p))[0]\n",
    "    price2.intercept=(country2.yint**2-((country2.yint/country2.xint)**2)*fsolve(f2,97,args=(p))[0]**2)**(.5)+p*fsolve(f2,97,args=(p))[0]\n",
    "    fig = plt.figure(figsize = (16,8))\n",
    "    plt.subplot(121)\n",
    "    plt.plot((country1.yint**2-((country1.yint/country1.xint)**2)*x1**2)**(.5))\n",
    "    plt.plot(price1.intercept+price1.slope*x1)\n",
    "    plt.xlabel('wheat',fontsize=24)\n",
    "    plt.ylabel('sugar cane',fontsize=24)\n",
    "    plt.axis([1,100,1,100])\n",
    "    plt.tick_params(axis='both', labelsize=24)\n",
    "    plt.title('Brazil', fontsize=24, fontweight='bold')\n",
    "    \n",
    "    plt.subplot(122)\n",
    "    plt.plot((country2.yint**2-((country2.yint/country2.xint)**2)*x2**2)**(.5))\n",
    "    plt.plot(price2.intercept+price2.slope*x2)\n",
    "    plt.xlabel('wheat', fontsize=24)\n",
    "    plt.ylabel('sugar cane',fontsize=24)\n",
    "    plt.axis([1,100,1,100])\n",
    "    plt.tick_params(axis='both', labelsize=24)\n",
    "    plt.title('U.S.', fontsize=24, fontweight='bold')\n",
    "    plt.show()\n",
    "    \n",
    "\n",
    "interactive_plot = widgets.interactive(g,\n",
    "                                       Case=widgets.RadioButtons(options=['low price of wheat','high price of wheat'],description='Choose one:')\n",
    "                                      )\n",
    "interactive_plot"
   ]
  },
  {
   "cell_type": "code",
   "execution_count": null,
   "metadata": {},
   "outputs": [],
   "source": []
  }
 ],
 "metadata": {
  "kernelspec": {
   "display_name": "Python 3",
   "language": "python",
   "name": "python3"
  },
  "language_info": {
   "codemirror_mode": {
    "name": "ipython",
    "version": 3
   },
   "file_extension": ".py",
   "mimetype": "text/x-python",
   "name": "python",
   "nbconvert_exporter": "python",
   "pygments_lexer": "ipython3",
   "version": "3.7.4"
  }
 },
 "nbformat": 4,
 "nbformat_minor": 2
}
