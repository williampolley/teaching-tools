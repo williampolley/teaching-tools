{
 "cells": [
  {
   "cell_type": "code",
   "execution_count": 18,
   "metadata": {},
   "outputs": [
    {
     "data": {
      "application/vnd.jupyter.widget-view+json": {
       "model_id": "30e97a7a0a1e4a26bcd08fe74a42ed49",
       "version_major": 2,
       "version_minor": 0
      },
      "text/plain": [
       "interactive(children=(FloatSlider(value=2.0, description='Price of Apples', max=5.0, min=1.0, step=0.25), Floa…"
      ]
     },
     "metadata": {},
     "output_type": "display_data"
    }
   ],
   "source": [
    "# nbi:hide_in\n",
    "#This script can be used to show simple budget constraint for teaching.\n",
    "#\n",
    "#William Polley\n",
    "#\n",
    "#\n",
    "\n",
    "\n",
    "import numpy as np\n",
    "import matplotlib.pyplot as plt\n",
    "import ipywidgets as widgets\n",
    "%matplotlib inline\n",
    "\n",
    "\n",
    "x=np.linspace(0,100,101)\n",
    " \n",
    "# Create the plot \n",
    "def g(px,py,m):\n",
    "    fig = plt.figure(figsize = (10,10))\n",
    "    plt.plot((m-px*x)/py)\n",
    "    plt.xlabel('Quantity of Apples', fontsize=24)\n",
    "    plt.ylabel('Quantity of Oranges',fontsize=24)\n",
    "    plt.grid(axis='both')\n",
    "    plt.axis([0,20,0,20])\n",
    "    plt.tick_params(axis='both', labelsize=24)\n",
    "    plt.title('The Budget Constraint', fontsize=24, fontweight='bold')\n",
    "    plt.show()\n",
    "    \n",
    "\n",
    "interactive_plot = widgets.interactive(g, px=widgets.FloatSlider(value=2,min=1,max=5,step=.25,description='Price of Apples'), py=widgets.FloatSlider(value=2,min=1,max=5,step=.25,description='Price of Oranges'),m=widgets.FloatSlider(value=15,min=10,max=20,step=.5,description='Money'))\n",
    "interactive_plot"
   ]
  },
  {
   "cell_type": "code",
   "execution_count": null,
   "metadata": {},
   "outputs": [],
   "source": []
  }
 ],
 "metadata": {
  "kernelspec": {
   "display_name": "Python 3",
   "language": "python",
   "name": "python3"
  },
  "language_info": {
   "codemirror_mode": {
    "name": "ipython",
    "version": 3
   },
   "file_extension": ".py",
   "mimetype": "text/x-python",
   "name": "python",
   "nbconvert_exporter": "python",
   "pygments_lexer": "ipython3",
   "version": "3.7.4"
  }
 },
 "nbformat": 4,
 "nbformat_minor": 2
}
